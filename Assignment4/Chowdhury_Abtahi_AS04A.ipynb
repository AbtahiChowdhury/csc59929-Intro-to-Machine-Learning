{
 "cells": [
  {
   "cell_type": "code",
   "execution_count": 1,
   "metadata": {},
   "outputs": [],
   "source": [
    "import numpy as np\n",
    "import pandas as pd\n",
    "import matplotlib.pyplot as plt \n",
    "from sklearn import svm, datasets\n",
    "from matplotlib.colors import ListedColormap"
   ]
  },
  {
   "cell_type": "code",
   "execution_count": 2,
   "metadata": {},
   "outputs": [],
   "source": [
    "iris = datasets.load_iris()\n",
    "X = iris.data[:, [0,1,2,3]]\n",
    "y = iris.target\n",
    "\n",
    "results = []"
   ]
  },
  {
   "cell_type": "code",
   "execution_count": 3,
   "metadata": {},
   "outputs": [],
   "source": [
    "_svm = svm.SVC(kernel='linear')\n",
    "_svm.fit(X,y)\n",
    "result = _svm.score(X,y)\n",
    "results.append(('linear',round(result,2)))"
   ]
  },
  {
   "cell_type": "code",
   "execution_count": 4,
   "metadata": {},
   "outputs": [],
   "source": [
    "_svm = svm.SVC(kernel='poly')\n",
    "_svm.fit(X,y)\n",
    "result = _svm.score(X,y)\n",
    "results.append(('poly',round(result,2)))"
   ]
  },
  {
   "cell_type": "code",
   "execution_count": 5,
   "metadata": {},
   "outputs": [],
   "source": [
    "_svm = svm.SVC(kernel='sigmoid')\n",
    "_svm.fit(X,y)\n",
    "result = _svm.score(X,y)\n",
    "results.append(('sigmoid',round(result,2)))"
   ]
  },
  {
   "cell_type": "code",
   "execution_count": 6,
   "metadata": {},
   "outputs": [],
   "source": [
    "_svm = svm.SVC(kernel='rbf')\n",
    "_svm.fit(X,y)\n",
    "result = _svm.score(X,y)\n",
    "results.append(('rbf',round(result,2)))"
   ]
  },
  {
   "cell_type": "code",
   "execution_count": 7,
   "metadata": {},
   "outputs": [
    {
     "name": "stdout",
     "output_type": "stream",
     "text": [
      "+---------+----------+\n",
      "|  Kernel | Accuracy |\n",
      "+---------+----------+\n",
      "|  linear |   0.99   |\n",
      "|   poly  |   0.97   |\n",
      "| sigmoid |   0.07   |\n",
      "|   rbf   |   0.97   |\n",
      "+---------+----------+\n"
     ]
    }
   ],
   "source": [
    "from prettytable import PrettyTable\n",
    "table = PrettyTable(['Kernel','Accuracy'])\n",
    "for i in results:\n",
    "    table.add_row(i)\n",
    "print(table)"
   ]
  },
  {
   "cell_type": "markdown",
   "metadata": {},
   "source": [
    "# Discussion"
   ]
  },
  {
   "cell_type": "markdown",
   "metadata": {},
   "source": [
    "In this part of the assignment, we were tasked to use the SVM classifier on the iris data set using all the features and catagories at once. The catagories being virginica, versicolor, and setora and the four features being sepal length, sepal width, petal length, petal width. The classifier was ran 4 times, each time using a different kernel. As seen above, the ones used were linear, poly, sigmoid, and rbf with linear having the best accuracy at a score of 0.99 and sigmoid having the worst accuracy by far at a score of 0.07. Poly and rbf were both at 0.97, making them slightly worst then linear."
   ]
  }
 ],
 "metadata": {
  "kernelspec": {
   "display_name": "Python 3",
   "language": "python",
   "name": "python3"
  },
  "language_info": {
   "codemirror_mode": {
    "name": "ipython",
    "version": 3
   },
   "file_extension": ".py",
   "mimetype": "text/x-python",
   "name": "python",
   "nbconvert_exporter": "python",
   "pygments_lexer": "ipython3",
   "version": "3.6.5"
  }
 },
 "nbformat": 4,
 "nbformat_minor": 4
}
